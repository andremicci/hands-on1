{
 "cells": [
  {
   "cell_type": "markdown",
   "id": "bc4390f3",
   "metadata": {},
   "source": [
    "# Problema di approfondimento 1: Random walk"
   ]
  },
  {
   "cell_type": "code",
   "execution_count": 26,
   "id": "d9d509aa",
   "metadata": {},
   "outputs": [],
   "source": [
    "import numpy as np\n",
    "import matplotlib.pyplot as plt\n",
    "import random as rnd\n",
    "import math\n"
   ]
  },
  {
   "cell_type": "code",
   "execution_count": 27,
   "id": "ecf73333",
   "metadata": {},
   "outputs": [
    {
     "data": {
      "text/plain": [
       "0.28458752423108435"
      ]
     },
     "execution_count": 27,
     "metadata": {},
     "output_type": "execute_result"
    }
   ],
   "source": [
    "rnd.seed(121356) #inizializza la sequenza\n",
    "rnd.random() #estrae numero tra 0 e 1\n",
    "\n"
   ]
  },
  {
   "cell_type": "code",
   "execution_count": 31,
   "id": "b1434b23",
   "metadata": {},
   "outputs": [
    {
     "ename": "TypeError",
     "evalue": "scatter() missing 1 required positional argument: 'y'",
     "output_type": "error",
     "traceback": [
      "\u001b[0;31m---------------------------------------------------------------------------\u001b[0m",
      "\u001b[0;31mTypeError\u001b[0m                                 Traceback (most recent call last)",
      "Cell \u001b[0;32mIn [31], line 13\u001b[0m\n\u001b[1;32m     11\u001b[0m pos\u001b[38;5;241m=\u001b[39mpos\u001b[38;5;241m+\u001b[39md\n\u001b[1;32m     12\u001b[0m sqm\u001b[38;5;241m=\u001b[39msqm\u001b[38;5;241m+\u001b[39m(pos\u001b[38;5;241m*\u001b[39m\u001b[38;5;241m*\u001b[39m\u001b[38;5;241m2\u001b[39m)\u001b[38;5;241m/\u001b[39mx\n\u001b[0;32m---> 13\u001b[0m \u001b[43mplt\u001b[49m\u001b[38;5;241;43m.\u001b[39;49m\u001b[43mscatter\u001b[49m\u001b[43m(\u001b[49m\u001b[43msqm\u001b[49m\u001b[43m)\u001b[49m\n",
      "\u001b[0;31mTypeError\u001b[0m: scatter() missing 1 required positional argument: 'y'"
     ]
    }
   ],
   "source": [
    "N=np.array([20,40,60])\n",
    "pos=0\n",
    "sqm=0\n",
    "\n",
    "\n",
    "for x in N:\n",
    "    \n",
    "    for i in range(0,x):\n",
    "        \n",
    "        d=np.sqrt(3)*rnd.random()-np.sqrt(3)\n",
    "        pos=pos+d\n",
    "        sqm=sqm+(pos**2)/x\n",
    "        plt.scatter(i,sqm)\n"
   ]
  },
  {
   "cell_type": "code",
   "execution_count": 30,
   "id": "69690cd9",
   "metadata": {},
   "outputs": [
    {
     "data": {
      "text/plain": [
       "-103.77071938703139"
      ]
     },
     "execution_count": 30,
     "metadata": {},
     "output_type": "execute_result"
    }
   ],
   "source": [
    "\n"
   ]
  }
 ],
 "metadata": {
  "kernelspec": {
   "display_name": "Python 3 (ipykernel)",
   "language": "python",
   "name": "python3"
  },
  "language_info": {
   "codemirror_mode": {
    "name": "ipython",
    "version": 3
   },
   "file_extension": ".py",
   "mimetype": "text/x-python",
   "name": "python",
   "nbconvert_exporter": "python",
   "pygments_lexer": "ipython3",
   "version": "3.8.10"
  }
 },
 "nbformat": 4,
 "nbformat_minor": 5
}
