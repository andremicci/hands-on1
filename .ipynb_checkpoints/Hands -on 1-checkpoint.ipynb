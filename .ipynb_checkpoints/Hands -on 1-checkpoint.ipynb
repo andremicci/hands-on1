{
 "cells": [
  {
   "cell_type": "markdown",
   "id": "54c769a7",
   "metadata": {},
   "source": [
    "# Hands-on 10/11/2022"
   ]
  },
  {
   "cell_type": "code",
   "execution_count": 73,
   "id": "946ae4c8",
   "metadata": {},
   "outputs": [],
   "source": [
    "import numpy as np\n",
    "import random as rnd\n",
    "import matplotlib.pyplot as plt\n",
    "from ROOT import *\n"
   ]
  },
  {
   "cell_type": "markdown",
   "id": "e2c236ee",
   "metadata": {},
   "source": [
    " Simulare il processo di un decadimento di una sostanza radioattiva con tempi di decadimento τ1  e τ2 la cui funzione di densità di probabilità è data da \n",
    "\n",
    "       \n",
    "     con τ1  = 0.1 s e τ2 = 1 s e f = 0.3 e rappresentate i tempi di decadimento in un istogramma. \n",
    "\n",
    "\n",
    "\n"
   ]
  },
  {
   "cell_type": "code",
   "execution_count": 74,
   "id": "cf303614",
   "metadata": {
    "scrolled": true
   },
   "outputs": [
    {
     "name": "stderr",
     "output_type": "stream",
     "text": [
      "Warning in <TROOT::Append>: Replacing existing TH1: nome (Potential memory leak).\n",
      "Warning in <TROOT::Append>: Replacing existing TH1: nome (Potential memory leak).\n",
      "Warning in <TROOT::Append>: Replacing existing TH1: nome (Potential memory leak).\n"
     ]
    }
   ],
   "source": [
    "tau1=0.1\n",
    "tau2=1.0\n",
    "f=0.3\n",
    "tauACC=0.01\n",
    "sigma=0.01\n",
    "rnd=TRandom3()\n",
    "ntot=10000\n",
    "rnd.SetSeed(123456789)\n",
    "\n",
    "h=TH1D(\"nome\",\"titolo\",100,0,5)\n",
    "h1=TH1D(\"nome\",\"titolo\",100,0,5)\n",
    "h2=TH1D(\"nome\",\"titolo\",100,0,5)\n",
    "c1=TCanvas()\n",
    "\n",
    "for i in range(0,ntot):\n",
    "    \n",
    "     if rnd.Rndm()<f:\n",
    "        \n",
    "        #expo con tau1 (primo tipo di esponenziale)\n",
    "        t=-tau1*np.log(1-rnd.Rndm())\n",
    " \n",
    "        \n",
    "     else:\n",
    "        \n",
    "        #expo con tau2 (secondo tipo di esponenziale)\n",
    "        t=-tau2*np.log(1-rnd.Rndm())\n",
    "        \n",
    "     h.Fill(t)\n",
    "    \n",
    "     if rnd.Rndm()<(1-np.exp(-t/tauACC)):\n",
    "            treco=t+rnd.Gaus(0,sigma)\n",
    "            h1.Fill(t)\n",
    "            h2.Fill(treco)\n",
    "     \n",
    "\n"
   ]
  },
  {
   "cell_type": "code",
   "execution_count": 75,
   "id": "bc855a18",
   "metadata": {
    "scrolled": true
   },
   "outputs": [
    {
     "data": {
      "image/png": "[encoded data removed]",
      "text/plain": [
       "<IPython.core.display.Image object>"
      ]
     },
     "metadata": {},
     "output_type": "display_data"
    }
   ],
   "source": [
    "c1.Draw()   \n",
    "c1.cd()\n",
    "h1.SetLineColor(kRed)\n",
    "h2.SetLineColor(kGreen)\n",
    "h.Draw()\n",
    "h1.Draw(\"same\")\n",
    "h2.Draw(\"same\")"
   ]
  },
  {
   "cell_type": "markdown",
   "id": "74af59ba",
   "metadata": {},
   "source": [
    "## Calcolo Volumi 3D"
   ]
  },
  {
   "cell_type": "markdown",
   "id": "bef65b35",
   "metadata": {},
   "source": [
    "Calcolare il volume del solido costituito da una sfera (R=1)  con \"buco\" cilindro coassiale ad essa e di raggio R/2. "
   ]
  },
  {
   "cell_type": "code",
   "execution_count": 90,
   "id": "bee3d16f",
   "metadata": {},
   "outputs": [],
   "source": [
    "R=1\n",
    "rc=R/2\n",
    "ntot=10000\n",
    "rnd2=TRandom3()\n",
    "rnd2.SetSeed(13249)\n",
    "Vol_sfera=(4/3)*np.pi*R**3\n",
    "\n",
    "nacc=0\n",
    "\n",
    "for i in range(0,ntot):\n",
    "    \n",
    "    x=2*R*rnd2.Rndm()-R\n",
    "    y=2*R*rnd2.Rndm()-R\n",
    "    z=2*R*rnd2.Rndm()-R\n",
    "    \n",
    "    r2=x**2+y**2+z**2\n",
    "    \n",
    "    rcl=x**2\n",
    "    \n",
    "    if r2<R**2 and rcl>rc*rc:\n",
    "        \n",
    "        nacc=nacc+1\n",
    "        \n",
    "        \n",
    "p=nacc/ntot\n",
    "VolMC=((2*R)**3)*p\n",
    "ep=np.sqrt(p*(1-p)/ntot)\n",
    "evolMC=ep*(2*R)**3"
   ]
  },
  {
   "cell_type": "code",
   "execution_count": 86,
   "id": "e16be16a",
   "metadata": {},
   "outputs": [
    {
     "data": {
      "text/plain": [
       "4.1568"
      ]
     },
     "execution_count": 86,
     "metadata": {},
     "output_type": "execute_result"
    }
   ],
   "source": [
    "VolMC\n"
   ]
  },
  {
   "cell_type": "code",
   "execution_count": 91,
   "id": "1442648b",
   "metadata": {},
   "outputs": [
    {
     "data": {
      "text/plain": [
       "0.039969255384607806"
      ]
     },
     "execution_count": 91,
     "metadata": {},
     "output_type": "execute_result"
    }
   ],
   "source": [
    "evolMC"
   ]
  },
  {
   "cell_type": "code",
   "execution_count": 92,
   "id": "9965f568",
   "metadata": {},
   "outputs": [
    {
     "data": {
      "text/plain": [
       "4.1887902047863905"
      ]
     },
     "execution_count": 92,
     "metadata": {},
     "output_type": "execute_result"
    }
   ],
   "source": [
    "Vol_sfera\n"
   ]
  },
  {
   "cell_type": "code",
   "execution_count": null,
   "id": "d853ebfc",
   "metadata": {},
   "outputs": [],
   "source": []
  }
 ],
 "metadata": {
  "kernelspec": {
   "display_name": "Python 3 (ipykernel)",
   "language": "python",
   "name": "python3"
  },
  "language_info": {
   "codemirror_mode": {
    "name": "ipython",
    "version": 3
   },
   "file_extension": ".py",
   "mimetype": "text/x-python",
   "name": "python",
   "nbconvert_exporter": "python",
   "pygments_lexer": "ipython3",
   "version": "3.8.10"
  }
 },
 "nbformat": 4,
 "nbformat_minor": 5
}
